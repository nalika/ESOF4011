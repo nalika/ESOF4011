{
  "nbformat": 4,
  "nbformat_minor": 0,
  "metadata": {
    "colab": {
      "name": "Lab 6 Neural Networks.ipynb",
      "provenance": [],
      "collapsed_sections": [],
      "include_colab_link": true
    },
    "kernelspec": {
      "name": "python3",
      "display_name": "Python 3"
    },
    "accelerator": "GPU"
  },
  "cells": [
    {
      "cell_type": "markdown",
      "metadata": {
        "id": "view-in-github",
        "colab_type": "text"
      },
      "source": [
        "<a href=\"https://colab.research.google.com/github/nalika/ESOF4011/blob/main/Lab_6_Neural_Networks.ipynb\" target=\"_parent\"><img src=\"https://colab.research.google.com/assets/colab-badge.svg\" alt=\"Open In Colab\"/></a>"
      ]
    },
    {
      "cell_type": "markdown",
      "metadata": {
        "id": "Aid-1jcOerOH"
      },
      "source": [
        "# **Neural Networks ESOF 4011 Lab 6 Solution**\r\n",
        "\r\n",
        "Lab Instructor: Robert Hertel"
      ]
    },
    {
      "cell_type": "code",
      "metadata": {
        "id": "rXdfddM0W31h"
      },
      "source": [
        ""
      ],
      "execution_count": null,
      "outputs": []
    },
    {
      "cell_type": "markdown",
      "metadata": {
        "id": "gu2A48xIhRiO"
      },
      "source": [
        "Note: Please share all links with me in the future by pressing share in the top right corner"
      ]
    },
    {
      "cell_type": "markdown",
      "metadata": {
        "id": "Bt7gG8jggxuE"
      },
      "source": [
        "Introduction Format:\r\n",
        "\r\n",
        "Student Name: Robert Hertel\r\n",
        "\r\n",
        "Sudent ID: XXXXXX\r\n",
        "\r\n",
        "Lab No.: 6 \r\n",
        "\r\n",
        "Colab link: https://colab.research.google.com/drive/1KaZ7twy7ava5UHSLkhY4ER1oeWndg7Ho\r\n",
        "\r\n"
      ]
    },
    {
      "cell_type": "markdown",
      "metadata": {
        "id": "fxv8pPXxgm_H"
      },
      "source": [
        "# **Load the data and create train-test splits**"
      ]
    },
    {
      "cell_type": "code",
      "metadata": {
        "colab": {
          "base_uri": "https://localhost:8080/"
        },
        "id": "g2HzPJJ8DP5z",
        "outputId": "af72b2c2-ce6b-4404-c993-ad7e8ac7db61"
      },
      "source": [
        "import tensorflow.keras as keras\r\n",
        "print(\"Using Keras\",keras.__version__)\r\n",
        "from keras.models import Sequential\r\n",
        "from keras.layers import Dense\r\n",
        "from keras.layers import Dropout\r\n",
        "from keras.optimizers import SGD\r\n",
        "import openml as oml\r\n",
        "import numpy as np\r\n",
        "import matplotlib.pyplot as plt\r\n",
        "import sklearn\r\n",
        "import tensorflow as tf\r\n",
        "\r\n",
        "%matplotlib inline"
      ],
      "execution_count": null,
      "outputs": [
        {
          "output_type": "stream",
          "text": [
            "Using Keras 2.4.0\n"
          ],
          "name": "stdout"
        }
      ]
    },
    {
      "cell_type": "code",
      "metadata": {
        "colab": {
          "base_uri": "https://localhost:8080/"
        },
        "id": "q_UfMZKCC8Au",
        "outputId": "8987642c-22fa-4e5a-93ae-96d1d815c522"
      },
      "source": [
        "pip install openml"
      ],
      "execution_count": null,
      "outputs": [
        {
          "output_type": "stream",
          "text": [
            "Requirement already satisfied: openml in /usr/local/lib/python3.7/dist-packages (0.11.0)\n",
            "Requirement already satisfied: liac-arff>=2.4.0 in /usr/local/lib/python3.7/dist-packages (from openml) (2.5.0)\n",
            "Requirement already satisfied: scikit-learn>=0.18 in /usr/local/lib/python3.7/dist-packages (from openml) (0.22.2.post1)\n",
            "Requirement already satisfied: python-dateutil in /usr/local/lib/python3.7/dist-packages (from openml) (2.8.1)\n",
            "Requirement already satisfied: numpy>=1.6.2 in /usr/local/lib/python3.7/dist-packages (from openml) (1.19.5)\n",
            "Requirement already satisfied: requests in /usr/local/lib/python3.7/dist-packages (from openml) (2.23.0)\n",
            "Requirement already satisfied: scipy>=0.13.3 in /usr/local/lib/python3.7/dist-packages (from openml) (1.4.1)\n",
            "Requirement already satisfied: pandas>=1.0.0 in /usr/local/lib/python3.7/dist-packages (from openml) (1.1.5)\n",
            "Requirement already satisfied: xmltodict in /usr/local/lib/python3.7/dist-packages (from openml) (0.12.0)\n",
            "Requirement already satisfied: joblib>=0.11 in /usr/local/lib/python3.7/dist-packages (from scikit-learn>=0.18->openml) (1.0.1)\n",
            "Requirement already satisfied: six>=1.5 in /usr/local/lib/python3.7/dist-packages (from python-dateutil->openml) (1.15.0)\n",
            "Requirement already satisfied: urllib3!=1.25.0,!=1.25.1,<1.26,>=1.21.1 in /usr/local/lib/python3.7/dist-packages (from requests->openml) (1.24.3)\n",
            "Requirement already satisfied: certifi>=2017.4.17 in /usr/local/lib/python3.7/dist-packages (from requests->openml) (2020.12.5)\n",
            "Requirement already satisfied: chardet<4,>=3.0.2 in /usr/local/lib/python3.7/dist-packages (from requests->openml) (3.0.4)\n",
            "Requirement already satisfied: idna<3,>=2.5 in /usr/local/lib/python3.7/dist-packages (from requests->openml) (2.10)\n",
            "Requirement already satisfied: pytz>=2017.2 in /usr/local/lib/python3.7/dist-packages (from pandas>=1.0.0->openml) (2018.9)\n"
          ],
          "name": "stdout"
        }
      ]
    },
    {
      "cell_type": "code",
      "metadata": {
        "colab": {
          "base_uri": "https://localhost:8080/",
          "height": 141
        },
        "id": "tQuJDpoz-n4R",
        "outputId": "4310671d-490c-4704-cb78-962720e59cbe"
      },
      "source": [
        "# Global imports and settings\r\n",
        "mnist = oml.datasets.get_dataset(554)\r\n",
        "X, y, _, _ = mnist.get_data(target=mnist.default_target_attribute, dataset_format='array');\r\n",
        "X = X.reshape(70000, 28, 28)\r\n",
        "# Take some random examples\r\n",
        "from random import randint\r\n",
        "fig, axes = plt.subplots(1, 5, figsize=(10, 5))\r\n",
        "for i in range(5):\r\n",
        " n = randint(0,70000)\r\n",
        " axes[i].imshow(X[n], cmap=plt.cm.gray_r)\r\n",
        " axes[i].set_xticks([])\r\n",
        " axes[i].set_yticks([])\r\n",
        " axes[i].set_xlabel(\"{}\".format(y[n]))\r\n",
        "plt.show();\r\n",
        "\r\n"
      ],
      "execution_count": null,
      "outputs": [
        {
          "output_type": "display_data",
          "data": {
            "image/png": "[encoded data removed]",
            "text/plain": [
              "<Figure size 720x360 with 5 Axes>"
            ]
          },
          "metadata": {
            "tags": []
          }
        }
      ]
    },
    {
      "cell_type": "code",
      "metadata": {
        "colab": {
          "base_uri": "https://localhost:8080/"
        },
        "id": "pmgdwR38LWn9",
        "outputId": "daa82738-14ea-4dc7-df2f-1df481c8ca70"
      },
      "source": [
        "# For MNIST, there exists a predefined stratified train-test split of 60000-10000. We therefore don't shuffle or stratify here.\r\n",
        "\r\n",
        "X_train, X_test, y_train, y_test = train_test_split(X, y, train_size=60000)\r\n",
        "print(\"Training set: \",X_train.shape)\r\n",
        "print(\"Test set: \",X_test.shape)"
      ],
      "execution_count": null,
      "outputs": [
        {
          "output_type": "stream",
          "text": [
            "Training set:  (60000, 28, 28)\n",
            "Test set:  (10000, 28, 28)\n"
          ],
          "name": "stdout"
        }
      ]
    },
    {
      "cell_type": "markdown",
      "metadata": {
        "id": "dwJzXIMFMjzt"
      },
      "source": [
        "# **Exercise 1: Preprocessing**\r\n",
        "\r\n",
        "Normalize the data: map each feature value from its current representation (an integer between 0\r\n",
        "and 255) to a floating-point value between 0 and 1.0.\r\n",
        "\r\n",
        "Store the floating-point values in x_train_normalized and x_test_normalized.\r\n",
        "\r\n",
        "Map the class label to a on-hot-encoded value. Store in y_train_encoded and y_test_encoded."
      ]
    },
    {
      "cell_type": "code",
      "metadata": {
        "id": "R1k7jyxaLcme"
      },
      "source": [
        "X_train = X_train.reshape((60000, 28 * 28))\r\n",
        "X_test = X_test.reshape((10000, 28 * 28))\r\n",
        "\r\n",
        "X_train = X_train.astype('float32') / 255\r\n",
        "X_test = X_test.astype('float32') / 255\r\n",
        "\r\n",
        "from keras.utils import to_categorical\r\n",
        "y_train = to_categorical(y_train)\r\n",
        "y_test = to_categorical(y_test)"
      ],
      "execution_count": null,
      "outputs": []
    },
    {
      "cell_type": "markdown",
      "metadata": {
        "id": "IZERaLlsRbXI"
      },
      "source": [
        "# **Exercise 2: Create a deep neural net model**\r\n",
        "\r\n",
        "Implement a create_model function which defines the topography of the deep neural net, specifying the\r\n",
        "following:\r\n",
        "\r\n",
        "The number of layers in the deep neural net: Use 2 dense layers for now.\r\n",
        "\r\n",
        "The number of nodes in each layer: these are parameters of your function.\r\n",
        "\r\n",
        "Any regularization layers. Add at least one dropout layer.\r\n",
        "\r\n",
        "The optimizer and learning rate. Make the learning rate a parameter of your function as well.\r\n",
        "\r\n",
        "Consider:\r\n",
        "\r\n",
        "What should be the shape of the input layer?\r\n",
        "\r\n",
        "Which activation function you will need for the last layer, since this is a 10-class classification\r\n",
        "problem?\r\n"
      ]
    },
    {
      "cell_type": "markdown",
      "metadata": {
        "id": "hl9Hhun-RNg-"
      },
      "source": [
        "We can now build a simple neural network for MNIST:\r\n",
        "\r\n",
        "One dense hidden ReLU layer with 512 nodes\r\n",
        "Input from a 28x28 matrix\r\n",
        "Output softmax layer with 10 nodes"
      ]
    },
    {
      "cell_type": "code",
      "metadata": {
        "id": "iKidT0U2PGHR"
      },
      "source": [
        "### Create and compile a 'deep' neural net\r\n",
        "image_size = 784 # 28*28\r\n",
        "num_classes = 10 # ten unique digits\r\n",
        "\r\n",
        "def create_model(layer_1_units=32, layer_2_units=10, learning_rate=0.001, dropout_rate=0.3):\r\n",
        "    model = Sequential()\r\n",
        "    model.add(Dense(layer_1_units, activation='relu', input_shape=(image_size,)))\r\n",
        "    model.add(Dropout(0.2))\r\n",
        "    model.add(Dense(layer_2_units, activation='softmax'))\r\n",
        "    model.summary()\r\n",
        "    sgd = SGD(lr=learning_rate, momentum=0.9)\r\n",
        "    model.compile(loss='categorical_crossentropy', optimizer=sgd, metrics=['accuracy'])\r\n",
        "    return model\r\n",
        "\r\n"
      ],
      "execution_count": null,
      "outputs": []
    },
    {
      "cell_type": "markdown",
      "metadata": {
        "id": "NtSCgVRMSlTv"
      },
      "source": [
        "# **Exercise 3: Create a training funtion**"
      ]
    },
    {
      "cell_type": "code",
      "metadata": {
        "id": "6ekgDuDGR0iP"
      },
      "source": [
        "def train_model(model, x_train, y_train, x_test, y_test, validation_split=0.1, epochs=5, batch_size=128):\r\n",
        "    history = model.fit(x_train, y_train, batch_size=batch_size, epochs=epochs, validation_split=validation_split, verbose=True)\r\n",
        "    loss, accuracy  = model.evaluate(x_test, y_test, verbose=False)\r\n",
        "    \r\n",
        "    plt.plot(history.history['accuracy'])\r\n",
        "    plt.plot(history.history['val_accuracy'])\r\n",
        "    plt.title('model accuracy')\r\n",
        "    plt.ylabel('accuracy')\r\n",
        "    plt.xlabel('epoch')\r\n",
        "    plt.legend(['training', 'validation'], loc='best')\r\n",
        "    plt.show()\r\n",
        "\r\n",
        "    plt.plot(history.history['loss'])\r\n",
        "    plt.plot(history.history['val_loss'])\r\n",
        "    plt.title('model loss')\r\n",
        "    plt.ylabel('loss')\r\n",
        "    plt.xlabel('epoch')\r\n",
        "    plt.legend(['training', 'validation'], loc='best')\r\n",
        "    plt.show()\r\n",
        "\r\n",
        "    print()\r\n",
        "    print(f'Test loss: {loss:.3}')\r\n",
        "    print(f'Test accuracy: {accuracy:.3}')\r\n"
      ],
      "execution_count": null,
      "outputs": []
    },
    {
      "cell_type": "markdown",
      "metadata": {
        "id": "ovMcIOEhTJDh"
      },
      "source": [
        "# **Exercise 4: Evaluate the model**"
      ]
    },
    {
      "cell_type": "code",
      "metadata": {
        "colab": {
          "base_uri": "https://localhost:8080/",
          "height": 1000
        },
        "id": "mob_dyTuUW1m",
        "outputId": "a19f591c-df6f-4dfe-f1e3-45230d94aea4"
      },
      "source": [
        "model = create_model()\r\n",
        "train_model(model, X_train, y_train, X_test, y_test, validation_split=0.1, epochs=5, batch_size=128)"
      ],
      "execution_count": null,
      "outputs": [
        {
          "output_type": "stream",
          "text": [
            "Model: \"sequential_1\"\n",
            "_________________________________________________________________\n",
            "Layer (type)                 Output Shape              Param #   \n",
            "=================================================================\n",
            "dense_2 (Dense)              (None, 32)                25120     \n",
            "_________________________________________________________________\n",
            "dropout_1 (Dropout)          (None, 32)                0         \n",
            "_________________________________________________________________\n",
            "dense_3 (Dense)              (None, 10)                330       \n",
            "=================================================================\n",
            "Total params: 25,450\n",
            "Trainable params: 25,450\n",
            "Non-trainable params: 0\n",
            "_________________________________________________________________\n",
            "Epoch 1/5\n",
            "422/422 [==============================] - 2s 3ms/step - loss: 2.0071 - accuracy: 0.3059 - val_loss: 1.0240 - val_accuracy: 0.7777\n",
            "Epoch 2/5\n",
            "422/422 [==============================] - 1s 3ms/step - loss: 1.0106 - accuracy: 0.7149 - val_loss: 0.6623 - val_accuracy: 0.8368\n",
            "Epoch 3/5\n",
            "422/422 [==============================] - 1s 3ms/step - loss: 0.7493 - accuracy: 0.7828 - val_loss: 0.5385 - val_accuracy: 0.8648\n",
            "Epoch 4/5\n",
            "422/422 [==============================] - 1s 3ms/step - loss: 0.6378 - accuracy: 0.8132 - val_loss: 0.4766 - val_accuracy: 0.8808\n",
            "Epoch 5/5\n",
            "422/422 [==============================] - 1s 3ms/step - loss: 0.5759 - accuracy: 0.8324 - val_loss: 0.4390 - val_accuracy: 0.8857\n"
          ],
          "name": "stdout"
        },
        {
          "output_type": "display_data",
          "data": {
            "image/png": "[encoded data removed]",
            "text/plain": [
              "<Figure size 432x288 with 1 Axes>"
            ]
          },
          "metadata": {
            "tags": [],
            "needs_background": "light"
          }
        },
        {
          "output_type": "display_data",
          "data": {
            "image/png": "[encoded data removed]",
            "text/plain": [
              "<Figure size 432x288 with 1 Axes>"
            ]
          },
          "metadata": {
            "tags": [],
            "needs_background": "light"
          }
        },
        {
          "output_type": "stream",
          "text": [
            "\n",
            "Test loss: 0.433\n",
            "Test accuracy: 0.887\n"
          ],
          "name": "stdout"
        }
      ]
    },
    {
      "cell_type": "markdown",
      "metadata": {
        "id": "9MSwdLleezdO"
      },
      "source": [
        "# **Exercise 5: Optimize the model**\r\n",
        "\r\n",
        "Try to optimize the model, either manually or with a tuning method. At least optimize the following:\r\n",
        "\r\n",
        "the number of hidden layers\r\n",
        "\r\n",
        "the number of nodes in each layer\r\n",
        "\r\n",
        "the amount of dropout layers and the dropout rate"
      ]
    },
    {
      "cell_type": "code",
      "metadata": {
        "id": "CdY2gV8qfAr2"
      },
      "source": [
        "#changed learning rate to 0.1, dropout to 0.2 and layer1 nodes to 64\r\n",
        "\r\n",
        "def create_model(layer_1_units=64, layer_2_units=10, learning_rate=0.1, dropout_rate=0.2):\r\n",
        "    model = Sequential()\r\n",
        "    model.add(Dense(layer_1_units, activation='relu', input_shape=(image_size,)))\r\n",
        "    #model.add(Dense(layer_1_units, activation='relu', input_shape=(image_size,))) If want to add another layer. It wasn't necessary in this case but can help\r\n",
        "    model.add(Dropout(0.2))\r\n",
        "    model.add(Dense(layer_2_units, activation='softmax'))\r\n",
        "    model.summary()\r\n",
        "    sgd = SGD(lr=learning_rate, momentum=0.9)\r\n",
        "    model.compile(loss='categorical_crossentropy', optimizer=sgd, metrics=['accuracy'])\r\n",
        "    return model"
      ],
      "execution_count": null,
      "outputs": []
    },
    {
      "cell_type": "code",
      "metadata": {
        "id": "DU9RQCgKffuZ"
      },
      "source": [
        "def train_model(model, x_train, y_train, x_test, y_test, validation_split=0.1, epochs=5, batch_size=128):\r\n",
        "    history = model.fit(x_train, y_train, batch_size=batch_size, epochs=epochs, validation_split=validation_split, verbose=True)\r\n",
        "    loss, accuracy  = model.evaluate(x_test, y_test, verbose=False)\r\n",
        "    \r\n",
        "    plt.plot(history.history['accuracy'])\r\n",
        "    plt.plot(history.history['val_accuracy'])\r\n",
        "    plt.title('model accuracy')\r\n",
        "    plt.ylabel('accuracy')\r\n",
        "    plt.xlabel('epoch')\r\n",
        "    plt.legend(['training', 'validation'], loc='best')\r\n",
        "    plt.show()\r\n",
        "\r\n",
        "    plt.plot(history.history['loss'])\r\n",
        "    plt.plot(history.history['val_loss'])\r\n",
        "    plt.title('model loss')\r\n",
        "    plt.ylabel('loss')\r\n",
        "    plt.xlabel('epoch')\r\n",
        "    plt.legend(['training', 'validation'], loc='best')\r\n",
        "    plt.show()\r\n",
        "\r\n",
        "    print()\r\n",
        "    print(f'Test loss: {loss:.3}')\r\n",
        "    print(f'Test accuracy: {accuracy:.3}')"
      ],
      "execution_count": null,
      "outputs": []
    },
    {
      "cell_type": "code",
      "metadata": {
        "colab": {
          "base_uri": "https://localhost:8080/",
          "height": 1000
        },
        "id": "aB21RwGJfHsw",
        "outputId": "0b7caa28-c82e-450e-b9b7-a821ee045234"
      },
      "source": [
        "model = create_model()\r\n",
        "train_model(model, X_train, y_train, X_test, y_test, validation_split=0.1, epochs=5, batch_size=128)"
      ],
      "execution_count": null,
      "outputs": [
        {
          "output_type": "stream",
          "text": [
            "Model: \"sequential_4\"\n",
            "_________________________________________________________________\n",
            "Layer (type)                 Output Shape              Param #   \n",
            "=================================================================\n",
            "dense_9 (Dense)              (None, 64)                50240     \n",
            "_________________________________________________________________\n",
            "dropout_4 (Dropout)          (None, 64)                0         \n",
            "_________________________________________________________________\n",
            "dense_10 (Dense)             (None, 10)                650       \n",
            "=================================================================\n",
            "Total params: 50,890\n",
            "Trainable params: 50,890\n",
            "Non-trainable params: 0\n",
            "_________________________________________________________________\n",
            "Epoch 1/5\n",
            "422/422 [==============================] - 1s 3ms/step - loss: 0.5834 - accuracy: 0.8181 - val_loss: 0.1841 - val_accuracy: 0.9412\n",
            "Epoch 2/5\n",
            "422/422 [==============================] - 1s 3ms/step - loss: 0.2042 - accuracy: 0.9379 - val_loss: 0.1316 - val_accuracy: 0.9610\n",
            "Epoch 3/5\n",
            "422/422 [==============================] - 1s 3ms/step - loss: 0.1577 - accuracy: 0.9504 - val_loss: 0.1278 - val_accuracy: 0.9603\n",
            "Epoch 4/5\n",
            "422/422 [==============================] - 1s 3ms/step - loss: 0.1435 - accuracy: 0.9563 - val_loss: 0.1207 - val_accuracy: 0.9653\n",
            "Epoch 5/5\n",
            "422/422 [==============================] - 1s 3ms/step - loss: 0.1264 - accuracy: 0.9605 - val_loss: 0.1086 - val_accuracy: 0.9665\n"
          ],
          "name": "stdout"
        },
        {
          "output_type": "display_data",
          "data": {
            "image/png": "[encoded data removed]",
            "text/plain": [
              "<Figure size 432x288 with 1 Axes>"
            ]
          },
          "metadata": {
            "tags": [],
            "needs_background": "light"
          }
        },
        {
          "output_type": "display_data",
          "data": {
            "image/png": "[encoded data removed]",
            "text/plain": [
              "<Figure size 432x288 with 1 Axes>"
            ]
          },
          "metadata": {
            "tags": [],
            "needs_background": "light"
          }
        },
        {
          "output_type": "stream",
          "text": [
            "\n",
            "Test loss: 0.115\n",
            "Test accuracy: 0.967\n"
          ],
          "name": "stdout"
        }
      ]
    },
    {
      "cell_type": "markdown",
      "metadata": {
        "id": "GTjpkmAiefmR"
      },
      "source": [
        "**Clear model weights if want to rerun the algortihm**"
      ]
    },
    {
      "cell_type": "code",
      "metadata": {
        "id": "b6IYYJlCeM7u"
      },
      "source": [
        "tf.keras.backend.clear_session()"
      ],
      "execution_count": null,
      "outputs": []
    }
  ]
}